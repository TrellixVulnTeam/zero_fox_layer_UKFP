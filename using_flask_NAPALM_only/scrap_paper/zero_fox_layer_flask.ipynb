{
 "cells": [
  {
   "cell_type": "markdown",
   "metadata": {},
   "source": [
    "#### import libraries/modules"
   ]
  },
  {
   "cell_type": "code",
   "execution_count": 1,
   "metadata": {},
   "outputs": [],
   "source": [
    "import uvicorn\n",
    "from fastapi import FastAPI\n",
    "from pydantic import BaseModel\n",
    "\n",
    "app = FastAPI()"
   ]
  },
  {
   "cell_type": "markdown",
   "metadata": {},
   "source": [
    "#### create the endpoints and their functions\n",
    "* endpoints:\n",
    "  * **cisco commands**\n",
    "  * **juniper commands**\n",
    "  * **arista commands**"
   ]
  },
  {
   "cell_type": "code",
   "execution_count": 2,
   "metadata": {},
   "outputs": [],
   "source": [
    "# cisco section\n",
    "##---change hostname of IOS router\n",
    "##---command\n",
    "####---hostname [new_hostname]\n",
    "\n",
    "class change_device_hostnameModle(BaseModel):\n",
    "    texts = str\n",
    "\n",
    "@app.post('/change_device_hostname')\n",
    "async def change_device_hostname(text : change_device_hostnameModle):\n",
    "    print(text.texts)\n",
    "    return {\"message\":\"message recieved\"}\n",
    "\n",
    "\n",
    "\n",
    "    # pass\n",
    "###################################\n",
    "###################################\n"
   ]
  }
 ],
 "metadata": {
  "interpreter": {
   "hash": "3e141be0325f9bf3530d720b42ad8277dcc6d84c3a52e22a6c05c969d14673e1"
  },
  "kernelspec": {
   "display_name": "Python 3.8.10 64-bit ('zero_fox_layer': venv)",
   "language": "python",
   "name": "python3"
  },
  "language_info": {
   "codemirror_mode": {
    "name": "ipython",
    "version": 3
   },
   "file_extension": ".py",
   "mimetype": "text/x-python",
   "name": "python",
   "nbconvert_exporter": "python",
   "pygments_lexer": "ipython3",
   "version": "3.8.10"
  },
  "orig_nbformat": 4
 },
 "nbformat": 4,
 "nbformat_minor": 2
}
